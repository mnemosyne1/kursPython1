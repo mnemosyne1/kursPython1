{
 "cells": [
  {
   "cell_type": "code",
   "execution_count": 4,
   "id": "07c31419",
   "metadata": {},
   "outputs": [
    {
     "name": "stdout",
     "output_type": "stream",
     "text": [
      "[97, 9, 63, 79, 59, 46, 39, 69, 10, 49, 67, 27, 9, 0, 19, 78, 57, 2, 49, 58, 80, 37, 76, 11, 67, 75, 84, 44, 86, 21, 10, 65, 29, 76, 43, 46, 27, 66, 56, 46, 10, 40, 97, 8, 30, 92, 41, 90, 24, 86, 43, 49, 48, 73, 52, 92, 83, 5, 40, 84, 37, 11, 33, 22, 12, 53, 72, 29, 74, 91, 25, 79, 39, 82, 31, 67, 2, 60, 95, 76, 58, 28, 35, 75, 45, 11, 34, 41, 74, 89, 29, 58, 91, 37, 88, 13, 39, 75, 60, 96]\n",
      "[96, 60, 75, 39, 13, 88, 37, 91, 58, 29, 89, 74, 41, 34, 11, 45, 75, 35, 28, 58, 76, 95, 60, 2, 67, 31, 82, 39, 79, 25, 91, 74, 29, 72, 53, 12, 22, 33, 11, 37, 84, 40, 5, 83, 92, 52, 73, 48, 49, 43, 86, 24, 90, 41, 92, 30, 8, 97, 40, 10, 46, 56, 66, 27, 46, 43, 76, 29, 65, 10, 21, 86, 44, 84, 75, 67, 11, 76, 37, 80, 58, 49, 2, 57, 78, 19, 0, 9, 27, 67, 49, 10, 69, 39, 46, 59, 79, 63, 9, 97]\n"
     ]
    }
   ],
   "source": [
    "import random\n",
    "\n",
    "SIZE = 100\n",
    "if __name__ == '__main__':\n",
    "    list_a = []\n",
    "    for i in range(SIZE):\n",
    "        list_a.append(random.randrange(0, SIZE))\n",
    "    print(list_a)\n",
    "    # for i in range(SIZE - 1, -1, -1):\n",
    "    #    print(list_a[i])\n",
    "    print(list_a[::-1])"
   ]
  },
  {
   "cell_type": "code",
   "execution_count": 3,
   "id": "d480a213",
   "metadata": {},
   "outputs": [
    {
     "name": "stdout",
     "output_type": "stream",
     "text": [
      "Podaj temperaturę w st. C: 9\n",
      "Jest nieprzyjemnie chłodno\n"
     ]
    }
   ],
   "source": [
    "temp = int(input(\"Podaj temperaturę w st. C: \"))\n",
    "if temp < 0:\n",
    "    print(\"Jest przyjemnie zimno\")\n",
    "elif temp < 18:\n",
    "    print(\"Jest nieprzyjemnie chłodno\")\n",
    "elif (temp < 35):\n",
    "    print(\"Jest przyjemnie ciepło\")\n",
    "else:\n",
    "    print(\"Jest... gorąco\")\n"
   ]
  },
  {
   "cell_type": "code",
   "execution_count": 5,
   "id": "9c64fa0e",
   "metadata": {},
   "outputs": [],
   "source": [
    "# TODO: funkcja sumująca tylko liczby całkowite z listy zawierające różne elementy"
   ]
  },
  {
   "cell_type": "code",
   "execution_count": 9,
   "id": "d7f7a87a",
   "metadata": {},
   "outputs": [
    {
     "name": "stdout",
     "output_type": "stream",
     "text": [
      "19\n"
     ]
    }
   ],
   "source": [
    "list = [1, 15, 12.25, [[7]], [1, 2], \"abc\", 3]\n",
    "res = 0\n",
    "for i in list:\n",
    "    if (isinstance(i, int)):\n",
    "        res += i\n",
    "print(res)"
   ]
  },
  {
   "cell_type": "code",
   "execution_count": null,
   "id": "2ab7182d",
   "metadata": {},
   "outputs": [],
   "source": []
  }
 ],
 "metadata": {
  "kernelspec": {
   "display_name": "Python 3 (ipykernel)",
   "language": "python",
   "name": "python3"
  },
  "language_info": {
   "codemirror_mode": {
    "name": "ipython",
    "version": 3
   },
   "file_extension": ".py",
   "mimetype": "text/x-python",
   "name": "python",
   "nbconvert_exporter": "python",
   "pygments_lexer": "ipython3",
   "version": "3.11.2"
  }
 },
 "nbformat": 4,
 "nbformat_minor": 5
}
